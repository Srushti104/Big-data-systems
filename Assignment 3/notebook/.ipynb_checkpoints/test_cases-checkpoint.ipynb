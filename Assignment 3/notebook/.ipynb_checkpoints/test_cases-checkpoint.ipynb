{
 "cells": [
  {
   "cell_type": "code",
   "execution_count": 4,
   "metadata": {},
   "outputs": [
    {
     "name": "stdout",
     "output_type": "stream",
     "text": [
      "Collecting snowflake-connector-python\n",
      "  Downloading snowflake_connector_python-2.4.2-cp37-cp37m-win_amd64.whl (5.8 MB)\n",
      "Requirement already satisfied, skipping upgrade: cffi<2.0.0,>=1.9 in c:\\users\\gnana\\anaconda3\\lib\\site-packages (from snowflake-connector-python) (1.14.0)\n",
      "Requirement already satisfied, skipping upgrade: chardet<4,>=3.0.2 in c:\\users\\gnana\\anaconda3\\lib\\site-packages (from snowflake-connector-python) (3.0.4)\n",
      "Collecting oscrypto<2.0.0\n",
      "  Using cached oscrypto-1.2.1-py2.py3-none-any.whl (192 kB)\n",
      "Requirement already satisfied, skipping upgrade: boto3<2.0.0,>=1.4.4 in c:\\users\\gnana\\anaconda3\\lib\\site-packages (from snowflake-connector-python) (1.15.6)\n",
      "Collecting pyjwt<3.0.0\n",
      "  Using cached PyJWT-2.0.1-py3-none-any.whl (15 kB)\n",
      "Requirement already satisfied, skipping upgrade: idna<3,>=2.5 in c:\\users\\gnana\\anaconda3\\lib\\site-packages (from snowflake-connector-python) (2.8)\n",
      "Requirement already satisfied, skipping upgrade: certifi>=2017.4.17 in c:\\users\\gnana\\anaconda3\\lib\\site-packages (from snowflake-connector-python) (2019.11.28)\n",
      "Collecting azure-common<2.0.0\n",
      "  Using cached azure_common-1.1.27-py2.py3-none-any.whl (12 kB)\n",
      "Collecting pycryptodomex!=3.5.0,<4.0.0,>=3.2\n",
      "  Using cached pycryptodomex-3.10.1-cp35-abi3-win_amd64.whl (1.6 MB)\n",
      "Requirement already satisfied, skipping upgrade: setuptools>34.0.0 in c:\\users\\gnana\\anaconda3\\lib\\site-packages (from snowflake-connector-python) (45.2.0.post20200210)\n",
      "Collecting azure-storage-blob<13.0.0,>=12.0.0\n",
      "  Using cached azure_storage_blob-12.8.0-py2.py3-none-any.whl (341 kB)\n",
      "Requirement already satisfied, skipping upgrade: pyOpenSSL<20.0.0,>=16.2.0 in c:\\users\\gnana\\anaconda3\\lib\\site-packages (from snowflake-connector-python) (19.1.0)\n",
      "Requirement already satisfied, skipping upgrade: pytz in c:\\users\\gnana\\anaconda3\\lib\\site-packages (from snowflake-connector-python) (2019.3)\n",
      "Requirement already satisfied, skipping upgrade: requests<3.0.0 in c:\\users\\gnana\\anaconda3\\lib\\site-packages (from snowflake-connector-python) (2.25.1)\n",
      "Requirement already satisfied, skipping upgrade: cryptography<4.0.0,>=2.5.0 in c:\\users\\gnana\\anaconda3\\lib\\site-packages (from snowflake-connector-python) (2.8)\n",
      "Requirement already satisfied, skipping upgrade: asn1crypto<2.0.0,>0.24.0 in c:\\users\\gnana\\anaconda3\\lib\\site-packages (from snowflake-connector-python) (1.3.0)\n",
      "Requirement already satisfied, skipping upgrade: pycparser in c:\\users\\gnana\\anaconda3\\lib\\site-packages (from cffi<2.0.0,>=1.9->snowflake-connector-python) (2.19)\n",
      "Collecting botocore<1.19.0,>=1.18.6\n",
      "  Downloading botocore-1.18.18-py2.py3-none-any.whl (6.7 MB)\n",
      "Requirement already satisfied, skipping upgrade: jmespath<1.0.0,>=0.7.1 in c:\\users\\gnana\\anaconda3\\lib\\site-packages (from boto3<2.0.0,>=1.4.4->snowflake-connector-python) (0.10.0)\n",
      "Requirement already satisfied, skipping upgrade: s3transfer<0.4.0,>=0.3.0 in c:\\users\\gnana\\anaconda3\\lib\\site-packages (from boto3<2.0.0,>=1.4.4->snowflake-connector-python) (0.3.3)\n",
      "Collecting azure-core<2.0.0,>=1.10.0\n",
      "  Using cached azure_core-1.12.0-py2.py3-none-any.whl (130 kB)\n",
      "Collecting msrest>=0.6.18\n",
      "  Using cached msrest-0.6.21-py2.py3-none-any.whl (85 kB)\n",
      "Requirement already satisfied, skipping upgrade: six>=1.5.2 in c:\\users\\gnana\\anaconda3\\lib\\site-packages (from pyOpenSSL<20.0.0,>=16.2.0->snowflake-connector-python) (1.15.0)\n",
      "Requirement already satisfied, skipping upgrade: urllib3<1.27,>=1.21.1 in c:\\users\\gnana\\anaconda3\\lib\\site-packages (from requests<3.0.0->snowflake-connector-python) (1.25.8)\n",
      "Requirement already satisfied, skipping upgrade: python-dateutil<3.0.0,>=2.1 in c:\\users\\gnana\\anaconda3\\lib\\site-packages (from botocore<1.19.0,>=1.18.6->boto3<2.0.0,>=1.4.4->snowflake-connector-python) (2.8.1)\n",
      "Collecting isodate>=0.6.0\n",
      "  Using cached isodate-0.6.0-py2.py3-none-any.whl (45 kB)\n",
      "Requirement already satisfied, skipping upgrade: requests-oauthlib>=0.5.0 in c:\\users\\gnana\\appdata\\roaming\\python\\python37\\site-packages (from msrest>=0.6.18->azure-storage-blob<13.0.0,>=12.0.0->snowflake-connector-python) (1.3.0)\n",
      "Requirement already satisfied, skipping upgrade: oauthlib>=3.0.0 in c:\\users\\gnana\\appdata\\roaming\\python\\python37\\site-packages (from requests-oauthlib>=0.5.0->msrest>=0.6.18->azure-storage-blob<13.0.0,>=12.0.0->snowflake-connector-python) (3.1.0)\n",
      "Installing collected packages: oscrypto, pyjwt, azure-common, pycryptodomex, azure-core, isodate, msrest, azure-storage-blob, snowflake-connector-python, botocore\n",
      "  Attempting uninstall: botocore\n",
      "    Found existing installation: botocore 1.19.52\n",
      "    Uninstalling botocore-1.19.52:\n",
      "      Successfully uninstalled botocore-1.19.52\n",
      "Successfully installed azure-common-1.1.27 azure-core-1.12.0 azure-storage-blob-12.8.0 botocore-1.18.18 isodate-0.6.0 msrest-0.6.21 oscrypto-1.2.1 pycryptodomex-3.10.1 pyjwt-2.0.1 snowflake-connector-python-2.4.2\n",
      "Note: you may need to restart the kernel to use updated packages.\n"
     ]
    },
    {
     "name": "stderr",
     "output_type": "stream",
     "text": [
      "ERROR: aiobotocore 1.2.1 has requirement botocore<1.19.53,>=1.19.52, but you'll have botocore 1.18.18 which is incompatible.\n"
     ]
    }
   ],
   "source": [
    "pip install --upgrade snowflake-connector-python"
   ]
  },
  {
   "cell_type": "code",
   "execution_count": 1,
   "metadata": {},
   "outputs": [
    {
     "name": "stdout",
     "output_type": "stream",
     "text": [
      "Requirement already satisfied: pytest in c:\\users\\gnana\\anaconda3\\lib\\site-packages (5.3.5)\n",
      "Requirement already satisfied: py>=1.5.0 in c:\\users\\gnana\\anaconda3\\lib\\site-packages (from pytest) (1.8.1)\n",
      "Requirement already satisfied: packaging in c:\\users\\gnana\\anaconda3\\lib\\site-packages (from pytest) (20.1)\n",
      "Requirement already satisfied: attrs>=17.4.0 in c:\\users\\gnana\\anaconda3\\lib\\site-packages (from pytest) (19.3.0)\n",
      "Requirement already satisfied: more-itertools>=4.0.0 in c:\\users\\gnana\\anaconda3\\lib\\site-packages (from pytest) (8.2.0)\n",
      "Requirement already satisfied: pluggy<1.0,>=0.12 in c:\\users\\gnana\\anaconda3\\lib\\site-packages (from pytest) (0.13.1)\n",
      "Requirement already satisfied: wcwidth in c:\\users\\gnana\\anaconda3\\lib\\site-packages (from pytest) (0.1.8)\n",
      "Requirement already satisfied: importlib-metadata>=0.12 in c:\\users\\gnana\\anaconda3\\lib\\site-packages (from pytest) (1.5.0)\n",
      "Requirement already satisfied: atomicwrites>=1.0 in c:\\users\\gnana\\anaconda3\\lib\\site-packages (from pytest) (1.3.0)\n",
      "Requirement already satisfied: colorama in c:\\users\\gnana\\anaconda3\\lib\\site-packages (from pytest) (0.4.3)\n",
      "Requirement already satisfied: pyparsing>=2.0.2 in c:\\users\\gnana\\anaconda3\\lib\\site-packages (from packaging->pytest) (2.4.6)\n",
      "Requirement already satisfied: six in c:\\users\\gnana\\anaconda3\\lib\\site-packages (from packaging->pytest) (1.15.0)\n",
      "Requirement already satisfied: zipp>=0.5 in c:\\users\\gnana\\anaconda3\\lib\\site-packages (from importlib-metadata>=0.12->pytest) (2.2.0)\n",
      "Note: you may need to restart the kernel to use updated packages.\n"
     ]
    }
   ],
   "source": [
    "pip install pytest"
   ]
  },
  {
   "cell_type": "code",
   "execution_count": 2,
   "metadata": {},
   "outputs": [
    {
     "name": "stdout",
     "output_type": "stream",
     "text": [
      "============================= test session starts =============================\n",
      "platform win32 -- Python 3.7.6, pytest-5.3.5, py-1.8.1, pluggy-0.13.1\n",
      "rootdir: C:\\Users\\gnana\\PycharmProjects\\Assignment3\\test_cases\n",
      "plugins: Faker-5.8.0, hypothesis-5.5.4, arraydiff-0.3, astropy-header-0.1.2, doctestplus-0.5.0, openfiles-0.4.0, remotedata-0.3.2, typeguard-2.11.1\n",
      "collected 0 items / 1 error\n",
      "\n",
      "=================================== ERRORS ====================================\n",
      "________________________ ERROR collecting test_app.py _________________________\n",
      "ImportError while importing test module 'C:\\Users\\gnana\\PycharmProjects\\Assignment3\\test_cases\\test_app.py'.\n",
      "Hint: make sure your test modules/packages have valid Python names.\n",
      "Traceback:\n",
      "test_app.py:1: in <module>\n",
      "    from fastapi.testclient import TestClient\n",
      "E   ModuleNotFoundError: No module named 'fastapi'\n",
      "!!!!!!!!!!!!!!!!!!! Interrupted: 1 error during collection !!!!!!!!!!!!!!!!!!!!\n",
      "============================== 1 error in 0.12s ===============================\n"
     ]
    }
   ],
   "source": []
  },
  {
   "cell_type": "code",
   "execution_count": 3,
   "metadata": {},
   "outputs": [
    {
     "name": "stdout",
     "output_type": "stream",
     "text": [
      "Collecting fastapi\n",
      "  Using cached fastapi-0.63.0-py3-none-any.whl (50 kB)\n",
      "Collecting starlette==0.13.6\n",
      "  Using cached starlette-0.13.6-py3-none-any.whl (59 kB)\n",
      "Collecting pydantic<2.0.0,>=1.0.0\n",
      "  Using cached pydantic-1.8.1-cp37-cp37m-win_amd64.whl (1.9 MB)\n",
      "Requirement already satisfied: typing-extensions>=3.7.4.3 in c:\\users\\gnana\\appdata\\roaming\\python\\python37\\site-packages (from pydantic<2.0.0,>=1.0.0->fastapi) (3.7.4.3)\n",
      "Installing collected packages: starlette, pydantic, fastapi\n",
      "Successfully installed fastapi-0.63.0 pydantic-1.8.1 starlette-0.13.6\n",
      "Note: you may need to restart the kernel to use updated packages.\n"
     ]
    }
   ],
   "source": [
    "pip install fastapi"
   ]
  },
  {
   "cell_type": "code",
   "execution_count": 2,
   "metadata": {},
   "outputs": [
    {
     "name": "stdout",
     "output_type": "stream",
     "text": [
      "Collecting uvicorn\n",
      "  Using cached uvicorn-0.13.4-py3-none-any.whl (46 kB)\n",
      "Collecting h11>=0.8\n",
      "  Using cached h11-0.12.0-py3-none-any.whl (54 kB)\n",
      "Requirement already satisfied: typing-extensions; python_version < \"3.8\" in c:\\users\\gnana\\appdata\\roaming\\python\\python37\\site-packages (from uvicorn) (3.7.4.3)\n",
      "Requirement already satisfied: click==7.* in c:\\users\\gnana\\anaconda3\\lib\\site-packages (from uvicorn) (7.0)\n",
      "Installing collected packages: h11, uvicorn\n",
      "Successfully installed h11-0.12.0 uvicorn-0.13.4\n",
      "Note: you may need to restart the kernel to use updated packages.\n"
     ]
    }
   ],
   "source": [
    "pip install uvicorn"
   ]
  },
  {
   "cell_type": "code",
   "execution_count": 1,
   "metadata": {},
   "outputs": [
    {
     "name": "stdout",
     "output_type": "stream",
     "text": [
      "Requirement already satisfied: ipytest in c:\\users\\gnana\\anaconda3\\lib\\site-packages (0.9.1)\n",
      "Requirement already satisfied: pytest in c:\\users\\gnana\\anaconda3\\lib\\site-packages (6.2.2)\n",
      "Requirement already satisfied: ipython in c:\\users\\gnana\\anaconda3\\lib\\site-packages (from ipytest) (7.12.0)\n",
      "Requirement already satisfied: packaging in c:\\users\\gnana\\anaconda3\\lib\\site-packages (from ipytest) (20.1)\n",
      "Requirement already satisfied: pluggy<1.0.0a1,>=0.12 in c:\\users\\gnana\\anaconda3\\lib\\site-packages (from pytest) (0.13.1)\n",
      "Requirement already satisfied: atomicwrites>=1.0; sys_platform == \"win32\" in c:\\users\\gnana\\anaconda3\\lib\\site-packages (from pytest) (1.3.0)\n",
      "Requirement already satisfied: importlib-metadata>=0.12; python_version < \"3.8\" in c:\\users\\gnana\\anaconda3\\lib\\site-packages (from pytest) (1.5.0)\n",
      "Requirement already satisfied: iniconfig in c:\\users\\gnana\\anaconda3\\lib\\site-packages (from pytest) (1.1.1)\n",
      "Requirement already satisfied: toml in c:\\users\\gnana\\anaconda3\\lib\\site-packages (from pytest) (0.10.1)\n",
      "Requirement already satisfied: attrs>=19.2.0 in c:\\users\\gnana\\anaconda3\\lib\\site-packages (from pytest) (19.3.0)\n",
      "Requirement already satisfied: colorama; sys_platform == \"win32\" in c:\\users\\gnana\\anaconda3\\lib\\site-packages (from pytest) (0.4.3)\n",
      "Requirement already satisfied: py>=1.8.2 in c:\\users\\gnana\\anaconda3\\lib\\site-packages (from pytest) (1.10.0)\n",
      "Requirement already satisfied: prompt-toolkit!=3.0.0,!=3.0.1,<3.1.0,>=2.0.0 in c:\\users\\gnana\\anaconda3\\lib\\site-packages (from ipython->ipytest) (3.0.3)\n",
      "Requirement already satisfied: decorator in c:\\users\\gnana\\anaconda3\\lib\\site-packages (from ipython->ipytest) (4.4.1)\n",
      "Requirement already satisfied: jedi>=0.10 in c:\\users\\gnana\\anaconda3\\lib\\site-packages (from ipython->ipytest) (0.14.1)\n",
      "Requirement already satisfied: pygments in c:\\users\\gnana\\anaconda3\\lib\\site-packages (from ipython->ipytest) (2.5.2)\n",
      "Requirement already satisfied: setuptools>=18.5 in c:\\users\\gnana\\anaconda3\\lib\\site-packages (from ipython->ipytest) (45.2.0.post20200210)\n",
      "Requirement already satisfied: traitlets>=4.2 in c:\\users\\gnana\\anaconda3\\lib\\site-packages (from ipython->ipytest) (4.3.3)\n",
      "Requirement already satisfied: backcall in c:\\users\\gnana\\anaconda3\\lib\\site-packages (from ipython->ipytest) (0.1.0)\n",
      "Requirement already satisfied: pickleshare in c:\\users\\gnana\\anaconda3\\lib\\site-packages (from ipython->ipytest) (0.7.5)\n",
      "Requirement already satisfied: six in c:\\users\\gnana\\anaconda3\\lib\\site-packages (from packaging->ipytest) (1.15.0)\n",
      "Requirement already satisfied: pyparsing>=2.0.2 in c:\\users\\gnana\\anaconda3\\lib\\site-packages (from packaging->ipytest) (2.4.6)\n",
      "Requirement already satisfied: zipp>=0.5 in c:\\users\\gnana\\anaconda3\\lib\\site-packages (from importlib-metadata>=0.12; python_version < \"3.8\"->pytest) (2.2.0)\n",
      "Requirement already satisfied: wcwidth in c:\\users\\gnana\\anaconda3\\lib\\site-packages (from prompt-toolkit!=3.0.0,!=3.0.1,<3.1.0,>=2.0.0->ipython->ipytest) (0.1.8)\n",
      "Requirement already satisfied: parso>=0.5.0 in c:\\users\\gnana\\anaconda3\\lib\\site-packages (from jedi>=0.10->ipython->ipytest) (0.5.2)\n",
      "Requirement already satisfied: ipython-genutils in c:\\users\\gnana\\anaconda3\\lib\\site-packages (from traitlets>=4.2->ipython->ipytest) (0.2.0)\n",
      "Note: you may need to restart the kernel to use updated packages.\n"
     ]
    }
   ],
   "source": [
    "pip install ipytest pytest"
   ]
  },
  {
   "cell_type": "code",
   "execution_count": 4,
   "metadata": {},
   "outputs": [
    {
     "name": "stdout",
     "output_type": "stream",
     "text": [
      "Requirement already up-to-date: ipytest in c:\\users\\gnana\\anaconda3\\lib\\site-packages (0.9.1)\n",
      "Requirement already satisfied, skipping upgrade: packaging in c:\\users\\gnana\\anaconda3\\lib\\site-packages (from ipytest) (20.1)\n",
      "Requirement already satisfied, skipping upgrade: pytest>=5.4 in c:\\users\\gnana\\anaconda3\\lib\\site-packages (from ipytest) (6.2.2)\n",
      "Requirement already satisfied, skipping upgrade: ipython in c:\\users\\gnana\\anaconda3\\lib\\site-packages (from ipytest) (7.12.0)\n",
      "Requirement already satisfied, skipping upgrade: six in c:\\users\\gnana\\anaconda3\\lib\\site-packages (from packaging->ipytest) (1.15.0)\n",
      "Requirement already satisfied, skipping upgrade: pyparsing>=2.0.2 in c:\\users\\gnana\\anaconda3\\lib\\site-packages (from packaging->ipytest) (2.4.6)\n",
      "Requirement already satisfied, skipping upgrade: toml in c:\\users\\gnana\\anaconda3\\lib\\site-packages (from pytest>=5.4->ipytest) (0.10.1)\n",
      "Requirement already satisfied, skipping upgrade: atomicwrites>=1.0; sys_platform == \"win32\" in c:\\users\\gnana\\anaconda3\\lib\\site-packages (from pytest>=5.4->ipytest) (1.3.0)\n",
      "Requirement already satisfied, skipping upgrade: pluggy<1.0.0a1,>=0.12 in c:\\users\\gnana\\anaconda3\\lib\\site-packages (from pytest>=5.4->ipytest) (0.13.1)\n",
      "Requirement already satisfied, skipping upgrade: colorama; sys_platform == \"win32\" in c:\\users\\gnana\\anaconda3\\lib\\site-packages (from pytest>=5.4->ipytest) (0.4.3)\n",
      "Requirement already satisfied, skipping upgrade: attrs>=19.2.0 in c:\\users\\gnana\\anaconda3\\lib\\site-packages (from pytest>=5.4->ipytest) (19.3.0)\n",
      "Requirement already satisfied, skipping upgrade: iniconfig in c:\\users\\gnana\\anaconda3\\lib\\site-packages (from pytest>=5.4->ipytest) (1.1.1)\n",
      "Requirement already satisfied, skipping upgrade: py>=1.8.2 in c:\\users\\gnana\\anaconda3\\lib\\site-packages (from pytest>=5.4->ipytest) (1.10.0)\n",
      "Requirement already satisfied, skipping upgrade: importlib-metadata>=0.12; python_version < \"3.8\" in c:\\users\\gnana\\anaconda3\\lib\\site-packages (from pytest>=5.4->ipytest) (1.5.0)\n",
      "Requirement already satisfied, skipping upgrade: pickleshare in c:\\users\\gnana\\anaconda3\\lib\\site-packages (from ipython->ipytest) (0.7.5)\n",
      "Requirement already satisfied, skipping upgrade: setuptools>=18.5 in c:\\users\\gnana\\anaconda3\\lib\\site-packages (from ipython->ipytest) (45.2.0.post20200210)\n",
      "Requirement already satisfied, skipping upgrade: pygments in c:\\users\\gnana\\anaconda3\\lib\\site-packages (from ipython->ipytest) (2.5.2)\n",
      "Requirement already satisfied, skipping upgrade: decorator in c:\\users\\gnana\\anaconda3\\lib\\site-packages (from ipython->ipytest) (4.4.1)\n",
      "Requirement already satisfied, skipping upgrade: backcall in c:\\users\\gnana\\anaconda3\\lib\\site-packages (from ipython->ipytest) (0.1.0)\n",
      "Requirement already satisfied, skipping upgrade: prompt-toolkit!=3.0.0,!=3.0.1,<3.1.0,>=2.0.0 in c:\\users\\gnana\\anaconda3\\lib\\site-packages (from ipython->ipytest) (3.0.3)\n",
      "Requirement already satisfied, skipping upgrade: jedi>=0.10 in c:\\users\\gnana\\anaconda3\\lib\\site-packages (from ipython->ipytest) (0.14.1)\n",
      "Requirement already satisfied, skipping upgrade: traitlets>=4.2 in c:\\users\\gnana\\anaconda3\\lib\\site-packages (from ipython->ipytest) (4.3.3)\n",
      "Requirement already satisfied, skipping upgrade: zipp>=0.5 in c:\\users\\gnana\\anaconda3\\lib\\site-packages (from importlib-metadata>=0.12; python_version < \"3.8\"->pytest>=5.4->ipytest) (2.2.0)\n",
      "Requirement already satisfied, skipping upgrade: wcwidth in c:\\users\\gnana\\anaconda3\\lib\\site-packages (from prompt-toolkit!=3.0.0,!=3.0.1,<3.1.0,>=2.0.0->ipython->ipytest) (0.1.8)\n",
      "Requirement already satisfied, skipping upgrade: parso>=0.5.0 in c:\\users\\gnana\\anaconda3\\lib\\site-packages (from jedi>=0.10->ipython->ipytest) (0.5.2)\n",
      "Requirement already satisfied, skipping upgrade: ipython-genutils in c:\\users\\gnana\\anaconda3\\lib\\site-packages (from traitlets>=4.2->ipython->ipytest) (0.2.0)\n",
      "Collecting pytest-tornasync\n",
      "  Downloading pytest_tornasync-0.6.0.post2-py3-none-any.whl (6.6 kB)\n",
      "Requirement already satisfied: tornado>=5.0 in c:\\users\\gnana\\anaconda3\\lib\\site-packages (from pytest-tornasync) (6.0.3)\n",
      "Requirement already satisfied: pytest>=3.0 in c:\\users\\gnana\\anaconda3\\lib\\site-packages (from pytest-tornasync) (6.2.2)\n",
      "Requirement already satisfied: iniconfig in c:\\users\\gnana\\anaconda3\\lib\\site-packages (from pytest>=3.0->pytest-tornasync) (1.1.1)\n",
      "Requirement already satisfied: pluggy<1.0.0a1,>=0.12 in c:\\users\\gnana\\anaconda3\\lib\\site-packages (from pytest>=3.0->pytest-tornasync) (0.13.1)\n",
      "Requirement already satisfied: packaging in c:\\users\\gnana\\anaconda3\\lib\\site-packages (from pytest>=3.0->pytest-tornasync) (20.1)\n",
      "Requirement already satisfied: atomicwrites>=1.0; sys_platform == \"win32\" in c:\\users\\gnana\\anaconda3\\lib\\site-packages (from pytest>=3.0->pytest-tornasync) (1.3.0)\n",
      "Requirement already satisfied: importlib-metadata>=0.12; python_version < \"3.8\" in c:\\users\\gnana\\anaconda3\\lib\\site-packages (from pytest>=3.0->pytest-tornasync) (1.5.0)\n",
      "Requirement already satisfied: colorama; sys_platform == \"win32\" in c:\\users\\gnana\\anaconda3\\lib\\site-packages (from pytest>=3.0->pytest-tornasync) (0.4.3)\n",
      "Requirement already satisfied: toml in c:\\users\\gnana\\anaconda3\\lib\\site-packages (from pytest>=3.0->pytest-tornasync) (0.10.1)\n",
      "Requirement already satisfied: py>=1.8.2 in c:\\users\\gnana\\anaconda3\\lib\\site-packages (from pytest>=3.0->pytest-tornasync) (1.10.0)\n",
      "Requirement already satisfied: attrs>=19.2.0 in c:\\users\\gnana\\anaconda3\\lib\\site-packages (from pytest>=3.0->pytest-tornasync) (19.3.0)\n",
      "Requirement already satisfied: pyparsing>=2.0.2 in c:\\users\\gnana\\anaconda3\\lib\\site-packages (from packaging->pytest>=3.0->pytest-tornasync) (2.4.6)\n",
      "Requirement already satisfied: six in c:\\users\\gnana\\anaconda3\\lib\\site-packages (from packaging->pytest>=3.0->pytest-tornasync) (1.15.0)\n",
      "Requirement already satisfied: zipp>=0.5 in c:\\users\\gnana\\anaconda3\\lib\\site-packages (from importlib-metadata>=0.12; python_version < \"3.8\"->pytest>=3.0->pytest-tornasync) (2.2.0)\n",
      "Installing collected packages: pytest-tornasync\n",
      "Successfully installed pytest-tornasync-0.6.0.post2\n",
      "Collecting nest_asyncio\n",
      "  Using cached nest_asyncio-1.5.1-py3-none-any.whl (5.0 kB)\n",
      "Installing collected packages: nest-asyncio\n",
      "Successfully installed nest-asyncio-1.5.1\n",
      "Collecting ipynb\n",
      "  Downloading ipynb-0.5.1-py3-none-any.whl (6.9 kB)\n",
      "Installing collected packages: ipynb\n",
      "Successfully installed ipynb-0.5.1\n"
     ]
    }
   ],
   "source": [
    "!pip install -U ipytest\n",
    "!pip install pytest-tornasync\n",
    "!pip install nest_asyncio\n",
    "!pip install ipynb"
   ]
  },
  {
   "cell_type": "code",
   "execution_count": 1,
   "metadata": {},
   "outputs": [],
   "source": [
    "__file__ = 'test_cases.ipynb'"
   ]
  },
  {
   "cell_type": "code",
   "execution_count": 1,
   "metadata": {},
   "outputs": [
    {
     "name": "stderr",
     "output_type": "stream",
     "text": [
      "C:\\Users\\gnana\\anaconda3\\lib\\site-packages\\snowflake\\connector\\options.py:97: UserWarning: You have an incompatible version of 'pyarrow' installed (1.0.1), please install a version that adheres to: 'pyarrow<3.1.0,>=3.0.0; extra == \"pandas\"'\n",
      "  _expected_pyarrow_version,\n"
     ]
    }
   ],
   "source": [
    "from fastapi.testclient import TestClient\n",
    "from stockAPI import app\n",
    "import pytest\n",
    "import ipytest\n",
    "ipytest.autoconfig()\n",
    "import nest_asyncio\n",
    "nest_asyncio.apply()\n",
    "from fastapi.security.api_key import APIKey\n",
    "from fastapi import Depends\n",
    "import warnings\n",
    "from stockAPI import app, API_KEY, API_KEY_NAME, api_key_query, get_api_key"
   ]
  },
  {
   "cell_type": "code",
   "execution_count": 2,
   "metadata": {},
   "outputs": [],
   "source": [
    "client = TestClient(app)"
   ]
  },
  {
   "cell_type": "code",
   "execution_count": 3,
   "metadata": {
    "scrolled": true
   },
   "outputs": [
    {
     "name": "stdout",
     "output_type": "stream",
     "text": [
      ".                                                                        [100%]\n",
      "============================== warnings summary ===============================\n",
      "..\\..\\anaconda3\\lib\\site-packages\\pyreadline\\py3k_compat.py:8\n",
      "  C:\\Users\\gnana\\anaconda3\\lib\\site-packages\\pyreadline\\py3k_compat.py:8: DeprecationWarning: Using or importing the ABCs from 'collections' instead of from 'collections.abc' is deprecated since Python 3.3,and in 3.9 it will stop working\n",
      "    return isinstance(x, collections.Callable)\n",
      "\n",
      "-- Docs: https://docs.pytest.org/en/stable/warnings.html\n",
      "1 passed, 1 warning in 1.60s\n"
     ]
    }
   ],
   "source": [
    "%%run_pytest\n",
    "\n",
    "    def test_company(api_key: APIKey = Depends(get_api_key)):\n",
    "        response = client.get(\"/Company/asm?access_token=1234567asdfgh\")\n",
    "        if APIKey:\n",
    "            assert response.status_code == 200\n",
    "            assert len(response.json()) != 0"
   ]
  },
  {
   "cell_type": "code",
   "execution_count": 4,
   "metadata": {},
   "outputs": [
    {
     "name": "stdout",
     "output_type": "stream",
     "text": [
      "..                                                                       [100%]\n",
      "2 passed in 1.69s\n"
     ]
    }
   ],
   "source": [
    "%%run_pytest\n",
    "    def test_year(api_key: APIKey = Depends(get_api_key)):\n",
    "        response = client.get(\"Year/2002?access_token=1234567asdfgh\")\n",
    "        if APIKey:\n",
    "            assert response.status_code == 200\n",
    "            assert len(response.json()) != 0"
   ]
  },
  {
   "cell_type": "code",
   "execution_count": 5,
   "metadata": {},
   "outputs": [
    {
     "name": "stdout",
     "output_type": "stream",
     "text": [
      "...                                                                      [100%]\n",
      "3 passed in 1.83s\n"
     ]
    }
   ],
   "source": [
    "%%run_pytest\n",
    "def test_date(api_key: APIKey = Depends(get_api_key)):\n",
    "    response = client.get(\"/Date/2016-06-29?ETFS_STOCKS=ETF&access_token=1234567asdfgh\")\n",
    "    if APIKey:\n",
    "        assert response.status_code == 200\n",
    "        assert len(response.json()) != 0"
   ]
  },
  {
   "cell_type": "code",
   "execution_count": 6,
   "metadata": {},
   "outputs": [
    {
     "name": "stdout",
     "output_type": "stream",
     "text": [
      "....                                                                     [100%]\n",
      "4 passed in 2.08s\n"
     ]
    }
   ],
   "source": [
    "%%run_pytest\n",
    "def test_company_error(api_key: APIKey = Depends(get_api_key)):\n",
    "    response = client.get(\"/Company/hello?access_token=1234567asdfgh\")\n",
    "    if APIKey:\n",
    "        assert response.status_code == 404\n",
    "        assert len(response.json())!=0"
   ]
  },
  {
   "cell_type": "code",
   "execution_count": 7,
   "metadata": {},
   "outputs": [
    {
     "name": "stdout",
     "output_type": "stream",
     "text": [
      ".....                                                                    [100%]\n",
      "5 passed in 1.66s\n"
     ]
    }
   ],
   "source": [
    "%%run_pytest\n",
    "def test_bad_api_key(api_key: APIKey = Depends(get_api_key)):\n",
    "    response = client.get(\"Year/2002?access_token=shshgsfag\")\n",
    "    if APIKey:\n",
    "      assert response.status_code == 403\n",
    "      assert len(response.json()) != 0"
   ]
  },
  {
   "cell_type": "code",
   "execution_count": null,
   "metadata": {},
   "outputs": [],
   "source": []
  }
 ],
 "metadata": {
  "kernelspec": {
   "display_name": "Python 3",
   "language": "python",
   "name": "python3"
  },
  "language_info": {
   "codemirror_mode": {
    "name": "ipython",
    "version": 3
   },
   "file_extension": ".py",
   "mimetype": "text/x-python",
   "name": "python",
   "nbconvert_exporter": "python",
   "pygments_lexer": "ipython3",
   "version": "3.7.6"
  }
 },
 "nbformat": 4,
 "nbformat_minor": 4
}
