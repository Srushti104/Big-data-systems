{
 "cells": [
  {
   "cell_type": "code",
   "execution_count": 9,
   "id": "current-interaction",
   "metadata": {},
   "outputs": [
    {
     "name": "stdout",
     "output_type": "stream",
     "text": [
      "/Users/akshaybhoge/PycharmProjects/StockAPI/notebook\r\n"
     ]
    }
   ],
   "source": [
    "!pwd"
   ]
  },
  {
   "cell_type": "code",
   "execution_count": 11,
   "id": "copyrighted-layout",
   "metadata": {},
   "outputs": [
    {
     "name": "stdout",
     "output_type": "stream",
     "text": [
      "StockAPI_testing.ipynb test_stockAPI.py\r\n"
     ]
    }
   ],
   "source": [
    "!ls"
   ]
  },
  {
   "cell_type": "code",
   "execution_count": 14,
   "id": "yellow-cloud",
   "metadata": {},
   "outputs": [
    {
     "name": "stdout",
     "output_type": "stream",
     "text": [
      "\u001b[1m============================= test session starts ==============================\u001b[0m\n",
      "platform darwin -- Python 3.7.9, pytest-6.2.2, py-1.10.0, pluggy-0.13.1\n",
      "rootdir: /Users/akshaybhoge/PycharmProjects/StockAPI/notebook\n",
      "plugins: anyio-2.2.0\n",
      "collected 0 items / 1 error                                                    \u001b[0m\n",
      "\n",
      "==================================== ERRORS ====================================\n",
      "\u001b[31m\u001b[1m______________________ ERROR collecting test_stockAPI.py _______________________\u001b[0m\n",
      "\u001b[31mImportError while importing test module '/Users/akshaybhoge/PycharmProjects/StockAPI/notebook/test_stockAPI.py'.\n",
      "Hint: make sure your test modules/packages have valid Python names.\n",
      "Traceback:\n",
      "/Library/Frameworks/Python.framework/Versions/3.7/lib/python3.7/importlib/__init__.py:127: in import_module\n",
      "    return _bootstrap._gcd_import(name[level:], package, level)\n",
      "test_stockAPI.py:1: in <module>\n",
      "    from fastapi.testclient import TestClient\n",
      "E   ModuleNotFoundError: No module named 'fastapi'\u001b[0m\n",
      "=========================== short test summary info ============================\n",
      "ERROR test_stockAPI.py\n",
      "!!!!!!!!!!!!!!!!!!!! Interrupted: 1 error during collection !!!!!!!!!!!!!!!!!!!!\n",
      "\u001b[31m=============================== \u001b[31m\u001b[1m1 error\u001b[0m\u001b[31m in 0.11s\u001b[0m\u001b[31m ===============================\u001b[0m\n"
     ]
    }
   ],
   "source": [
    "!pytest"
   ]
  },
  {
   "cell_type": "code",
   "execution_count": 13,
   "id": "controlled-relaxation",
   "metadata": {},
   "outputs": [
    {
     "name": "stdout",
     "output_type": "stream",
     "text": [
      "Collecting pytest\n",
      "  Using cached pytest-6.2.2-py3-none-any.whl (280 kB)\n",
      "Collecting py>=1.8.2\n",
      "  Using cached py-1.10.0-py2.py3-none-any.whl (97 kB)\n",
      "Collecting toml\n",
      "  Using cached toml-0.10.2-py2.py3-none-any.whl (16 kB)\n",
      "Requirement already satisfied: packaging in /Users/akshaybhoge/PycharmProjects/pythonProject2/jupytervenv/lib/python3.7/site-packages (from pytest) (20.9)\n",
      "Requirement already satisfied: importlib-metadata>=0.12 in /Users/akshaybhoge/PycharmProjects/pythonProject2/jupytervenv/lib/python3.7/site-packages (from pytest) (3.7.2)\n",
      "Requirement already satisfied: attrs>=19.2.0 in /Users/akshaybhoge/PycharmProjects/pythonProject2/jupytervenv/lib/python3.7/site-packages (from pytest) (20.3.0)\n",
      "Collecting iniconfig\n",
      "  Using cached iniconfig-1.1.1-py2.py3-none-any.whl (5.0 kB)\n",
      "Collecting pluggy<1.0.0a1,>=0.12\n",
      "  Using cached pluggy-0.13.1-py2.py3-none-any.whl (18 kB)\n",
      "Requirement already satisfied: zipp>=0.5 in /Users/akshaybhoge/PycharmProjects/pythonProject2/jupytervenv/lib/python3.7/site-packages (from importlib-metadata>=0.12->pytest) (3.4.1)\n",
      "Requirement already satisfied: typing-extensions>=3.6.4 in /Users/akshaybhoge/PycharmProjects/pythonProject2/jupytervenv/lib/python3.7/site-packages (from importlib-metadata>=0.12->pytest) (3.7.4.3)\n",
      "Requirement already satisfied: pyparsing>=2.0.2 in /Users/akshaybhoge/PycharmProjects/pythonProject2/jupytervenv/lib/python3.7/site-packages (from packaging->pytest) (2.4.7)\n",
      "Installing collected packages: toml, py, pluggy, iniconfig, pytest\n",
      "Successfully installed iniconfig-1.1.1 pluggy-0.13.1 py-1.10.0 pytest-6.2.2 toml-0.10.2\n"
     ]
    }
   ],
   "source": [
    "!pip install pytest"
   ]
  },
  {
   "cell_type": "code",
   "execution_count": null,
   "id": "temporal-estimate",
   "metadata": {},
   "outputs": [],
   "source": []
  }
 ],
 "metadata": {
  "kernelspec": {
   "display_name": "Python 3",
   "language": "python",
   "name": "python3"
  },
  "language_info": {
   "codemirror_mode": {
    "name": "ipython",
    "version": 3
   },
   "file_extension": ".py",
   "mimetype": "text/x-python",
   "name": "python",
   "nbconvert_exporter": "python",
   "pygments_lexer": "ipython3",
   "version": "3.7.9"
  }
 },
 "nbformat": 4,
 "nbformat_minor": 5
}
